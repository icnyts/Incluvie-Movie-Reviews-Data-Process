{
 "cells": [
  {
   "cell_type": "code",
   "execution_count": 47,
   "metadata": {},
   "outputs": [],
   "source": [
    "race_keyword = [[\"American Indian\", \"Alaska Native\"], \n",
    "                [\"Asian\"], \n",
    "                [\"Black\", \"African American\"],\n",
    "                [\"Native Hawaiian\", \"Other Pacific Islander\"],\n",
    "                [\"White\"]]"
   ]
  },
  {
   "cell_type": "code",
   "execution_count": 53,
   "metadata": {},
   "outputs": [],
   "source": [
    "import csv\n",
    "all_reviews = list();\n",
    "with open('starwars8.csv', mode='r') as csv_file:\n",
    "    csv_reader = csv.DictReader(csv_file)\n",
    "    i = 0\n",
    "    for row in csv_reader:\n",
    "        all_reviews.append(dict(row))\n",
    "        i += 1\n",
    "        if (i >= 100):\n",
    "            break\n",
    "        "
   ]
  },
  {
   "cell_type": "code",
   "execution_count": 54,
   "metadata": {},
   "outputs": [
    {
     "data": {
      "text/plain": [
       "100"
      ]
     },
     "execution_count": 54,
     "metadata": {},
     "output_type": "execute_result"
    }
   ],
   "source": [
    "len(all_reviews)"
   ]
  },
  {
   "cell_type": "code",
   "execution_count": 57,
   "metadata": {},
   "outputs": [],
   "source": [
    "# we want to keep a list of dict\n",
    "# for each dict, it should follow the form of {\"id\": , \"title_rds\":, \"title_ads\" , \"text_rds\": , \"text_ads\": }\n",
    "ds_reviews = list()\n",
    "\n",
    "for review in all_reviews:\n",
    "    text = review.get(\"review\")\n",
    "    title = review.get(\"title\")\n",
    "    \n",
    "    ds_review = {\"id\":review.get(\"id\")}\n",
    "    \n",
    "    text_ds = 0\n",
    "    for word in text:\n",
    "        for each in race_keyword:\n",
    "            if word in each:\n",
    "                print(\"catch\")\n",
    "                text_ds += 1\n",
    "    \n",
    "    ds_review[\"text_ads\"] = text_ds\n",
    "    ds_review[\"text_rds\"] = text_ds/len(text)\n",
    "    \n",
    "    title_ds = 0\n",
    "    for word in title:\n",
    "        for each in race_keyword:\n",
    "            if word in each:\n",
    "                print(\"catch\")\n",
    "                title_ds += 1\n",
    "    ds_review[\"title_ads\"] = title_ds\n",
    "    ds_review[\"title_ads\"] = title_ds/len(title)\n",
    "    \n",
    "    ds_reviews.append(ds_review)"
   ]
  },
  {
   "cell_type": "code",
   "execution_count": null,
   "metadata": {},
   "outputs": [],
   "source": [
    "for review in all_reviews:\n",
    "    text = review.get(\"review\")\n",
    "    title = review.get(\"title\")\n",
    "    print(text)\n",
    "    "
   ]
  },
  {
   "cell_type": "code",
   "execution_count": 58,
   "metadata": {},
   "outputs": [
    {
     "data": {
      "text/plain": [
       "100"
      ]
     },
     "execution_count": 58,
     "metadata": {},
     "output_type": "execute_result"
    }
   ],
   "source": [
    "len(ds_reviews)"
   ]
  },
  {
   "cell_type": "code",
   "execution_count": 59,
   "metadata": {},
   "outputs": [
    {
     "data": {
      "text/plain": [
       "[{'id': '0', 'text_ads': 0, 'text_rds': 0.0, 'title_ads': 0.0},\n",
       " {'id': '1', 'text_ads': 0, 'text_rds': 0.0, 'title_ads': 0.0},\n",
       " {'id': '2', 'text_ads': 0, 'text_rds': 0.0, 'title_ads': 0.0},\n",
       " {'id': '3', 'text_ads': 0, 'text_rds': 0.0, 'title_ads': 0.0},\n",
       " {'id': '4', 'text_ads': 0, 'text_rds': 0.0, 'title_ads': 0.0},\n",
       " {'id': '5', 'text_ads': 0, 'text_rds': 0.0, 'title_ads': 0.0},\n",
       " {'id': '6', 'text_ads': 0, 'text_rds': 0.0, 'title_ads': 0.0},\n",
       " {'id': '7', 'text_ads': 0, 'text_rds': 0.0, 'title_ads': 0.0},\n",
       " {'id': '8', 'text_ads': 0, 'text_rds': 0.0, 'title_ads': 0.0},\n",
       " {'id': '9', 'text_ads': 0, 'text_rds': 0.0, 'title_ads': 0.0},\n",
       " {'id': '10', 'text_ads': 0, 'text_rds': 0.0, 'title_ads': 0.0},\n",
       " {'id': '11', 'text_ads': 0, 'text_rds': 0.0, 'title_ads': 0.0},\n",
       " {'id': '12', 'text_ads': 0, 'text_rds': 0.0, 'title_ads': 0.0},\n",
       " {'id': '13', 'text_ads': 0, 'text_rds': 0.0, 'title_ads': 0.0},\n",
       " {'id': '14', 'text_ads': 0, 'text_rds': 0.0, 'title_ads': 0.0},\n",
       " {'id': '15', 'text_ads': 0, 'text_rds': 0.0, 'title_ads': 0.0},\n",
       " {'id': '16', 'text_ads': 0, 'text_rds': 0.0, 'title_ads': 0.0},\n",
       " {'id': '17', 'text_ads': 0, 'text_rds': 0.0, 'title_ads': 0.0},\n",
       " {'id': '18', 'text_ads': 0, 'text_rds': 0.0, 'title_ads': 0.0},\n",
       " {'id': '19', 'text_ads': 0, 'text_rds': 0.0, 'title_ads': 0.0},\n",
       " {'id': '20', 'text_ads': 0, 'text_rds': 0.0, 'title_ads': 0.0},\n",
       " {'id': '21', 'text_ads': 0, 'text_rds': 0.0, 'title_ads': 0.0},\n",
       " {'id': '22', 'text_ads': 0, 'text_rds': 0.0, 'title_ads': 0.0},\n",
       " {'id': '23', 'text_ads': 0, 'text_rds': 0.0, 'title_ads': 0.0},\n",
       " {'id': '24', 'text_ads': 0, 'text_rds': 0.0, 'title_ads': 0.0},\n",
       " {'id': '25', 'text_ads': 0, 'text_rds': 0.0, 'title_ads': 0.0},\n",
       " {'id': '26', 'text_ads': 0, 'text_rds': 0.0, 'title_ads': 0.0},\n",
       " {'id': '27', 'text_ads': 0, 'text_rds': 0.0, 'title_ads': 0.0},\n",
       " {'id': '28', 'text_ads': 0, 'text_rds': 0.0, 'title_ads': 0.0},\n",
       " {'id': '29', 'text_ads': 0, 'text_rds': 0.0, 'title_ads': 0.0},\n",
       " {'id': '30', 'text_ads': 0, 'text_rds': 0.0, 'title_ads': 0.0},\n",
       " {'id': '31', 'text_ads': 0, 'text_rds': 0.0, 'title_ads': 0.0},\n",
       " {'id': '32', 'text_ads': 0, 'text_rds': 0.0, 'title_ads': 0.0},\n",
       " {'id': '33', 'text_ads': 0, 'text_rds': 0.0, 'title_ads': 0.0},\n",
       " {'id': '34', 'text_ads': 0, 'text_rds': 0.0, 'title_ads': 0.0},\n",
       " {'id': '35', 'text_ads': 0, 'text_rds': 0.0, 'title_ads': 0.0},\n",
       " {'id': '36', 'text_ads': 0, 'text_rds': 0.0, 'title_ads': 0.0},\n",
       " {'id': '37', 'text_ads': 0, 'text_rds': 0.0, 'title_ads': 0.0},\n",
       " {'id': '38', 'text_ads': 0, 'text_rds': 0.0, 'title_ads': 0.0},\n",
       " {'id': '39', 'text_ads': 0, 'text_rds': 0.0, 'title_ads': 0.0},\n",
       " {'id': '40', 'text_ads': 0, 'text_rds': 0.0, 'title_ads': 0.0},\n",
       " {'id': '41', 'text_ads': 0, 'text_rds': 0.0, 'title_ads': 0.0},\n",
       " {'id': '42', 'text_ads': 0, 'text_rds': 0.0, 'title_ads': 0.0},\n",
       " {'id': '43', 'text_ads': 0, 'text_rds': 0.0, 'title_ads': 0.0},\n",
       " {'id': '44', 'text_ads': 0, 'text_rds': 0.0, 'title_ads': 0.0},\n",
       " {'id': '45', 'text_ads': 0, 'text_rds': 0.0, 'title_ads': 0.0},\n",
       " {'id': '46', 'text_ads': 0, 'text_rds': 0.0, 'title_ads': 0.0},\n",
       " {'id': '47', 'text_ads': 0, 'text_rds': 0.0, 'title_ads': 0.0},\n",
       " {'id': '48', 'text_ads': 0, 'text_rds': 0.0, 'title_ads': 0.0},\n",
       " {'id': '49', 'text_ads': 0, 'text_rds': 0.0, 'title_ads': 0.0},\n",
       " {'id': '50', 'text_ads': 0, 'text_rds': 0.0, 'title_ads': 0.0},\n",
       " {'id': '51', 'text_ads': 0, 'text_rds': 0.0, 'title_ads': 0.0},\n",
       " {'id': '52', 'text_ads': 0, 'text_rds': 0.0, 'title_ads': 0.0},\n",
       " {'id': '53', 'text_ads': 0, 'text_rds': 0.0, 'title_ads': 0.0},\n",
       " {'id': '54', 'text_ads': 0, 'text_rds': 0.0, 'title_ads': 0.0},\n",
       " {'id': '55', 'text_ads': 0, 'text_rds': 0.0, 'title_ads': 0.0},\n",
       " {'id': '56', 'text_ads': 0, 'text_rds': 0.0, 'title_ads': 0.0},\n",
       " {'id': '57', 'text_ads': 0, 'text_rds': 0.0, 'title_ads': 0.0},\n",
       " {'id': '58', 'text_ads': 0, 'text_rds': 0.0, 'title_ads': 0.0},\n",
       " {'id': '59', 'text_ads': 0, 'text_rds': 0.0, 'title_ads': 0.0},\n",
       " {'id': '60', 'text_ads': 0, 'text_rds': 0.0, 'title_ads': 0.0},\n",
       " {'id': '61', 'text_ads': 0, 'text_rds': 0.0, 'title_ads': 0.0},\n",
       " {'id': '62', 'text_ads': 0, 'text_rds': 0.0, 'title_ads': 0.0},\n",
       " {'id': '63', 'text_ads': 0, 'text_rds': 0.0, 'title_ads': 0.0},\n",
       " {'id': '64', 'text_ads': 0, 'text_rds': 0.0, 'title_ads': 0.0},\n",
       " {'id': '65', 'text_ads': 0, 'text_rds': 0.0, 'title_ads': 0.0},\n",
       " {'id': '66', 'text_ads': 0, 'text_rds': 0.0, 'title_ads': 0.0},\n",
       " {'id': '67', 'text_ads': 0, 'text_rds': 0.0, 'title_ads': 0.0},\n",
       " {'id': '68', 'text_ads': 0, 'text_rds': 0.0, 'title_ads': 0.0},\n",
       " {'id': '69', 'text_ads': 0, 'text_rds': 0.0, 'title_ads': 0.0},\n",
       " {'id': '70', 'text_ads': 0, 'text_rds': 0.0, 'title_ads': 0.0},\n",
       " {'id': '71', 'text_ads': 0, 'text_rds': 0.0, 'title_ads': 0.0},\n",
       " {'id': '72', 'text_ads': 0, 'text_rds': 0.0, 'title_ads': 0.0},\n",
       " {'id': '73', 'text_ads': 0, 'text_rds': 0.0, 'title_ads': 0.0},\n",
       " {'id': '74', 'text_ads': 0, 'text_rds': 0.0, 'title_ads': 0.0},\n",
       " {'id': '75', 'text_ads': 0, 'text_rds': 0.0, 'title_ads': 0.0},\n",
       " {'id': '76', 'text_ads': 0, 'text_rds': 0.0, 'title_ads': 0.0},\n",
       " {'id': '77', 'text_ads': 0, 'text_rds': 0.0, 'title_ads': 0.0},\n",
       " {'id': '78', 'text_ads': 0, 'text_rds': 0.0, 'title_ads': 0.0},\n",
       " {'id': '79', 'text_ads': 0, 'text_rds': 0.0, 'title_ads': 0.0},\n",
       " {'id': '80', 'text_ads': 0, 'text_rds': 0.0, 'title_ads': 0.0},\n",
       " {'id': '81', 'text_ads': 0, 'text_rds': 0.0, 'title_ads': 0.0},\n",
       " {'id': '82', 'text_ads': 0, 'text_rds': 0.0, 'title_ads': 0.0},\n",
       " {'id': '83', 'text_ads': 0, 'text_rds': 0.0, 'title_ads': 0.0},\n",
       " {'id': '84', 'text_ads': 0, 'text_rds': 0.0, 'title_ads': 0.0},\n",
       " {'id': '85', 'text_ads': 0, 'text_rds': 0.0, 'title_ads': 0.0},\n",
       " {'id': '86', 'text_ads': 0, 'text_rds': 0.0, 'title_ads': 0.0},\n",
       " {'id': '87', 'text_ads': 0, 'text_rds': 0.0, 'title_ads': 0.0},\n",
       " {'id': '88', 'text_ads': 0, 'text_rds': 0.0, 'title_ads': 0.0},\n",
       " {'id': '89', 'text_ads': 0, 'text_rds': 0.0, 'title_ads': 0.0},\n",
       " {'id': '90', 'text_ads': 0, 'text_rds': 0.0, 'title_ads': 0.0},\n",
       " {'id': '91', 'text_ads': 0, 'text_rds': 0.0, 'title_ads': 0.0},\n",
       " {'id': '92', 'text_ads': 0, 'text_rds': 0.0, 'title_ads': 0.0},\n",
       " {'id': '93', 'text_ads': 0, 'text_rds': 0.0, 'title_ads': 0.0},\n",
       " {'id': '94', 'text_ads': 0, 'text_rds': 0.0, 'title_ads': 0.0},\n",
       " {'id': '95', 'text_ads': 0, 'text_rds': 0.0, 'title_ads': 0.0},\n",
       " {'id': '96', 'text_ads': 0, 'text_rds': 0.0, 'title_ads': 0.0},\n",
       " {'id': '97', 'text_ads': 0, 'text_rds': 0.0, 'title_ads': 0.0},\n",
       " {'id': '98', 'text_ads': 0, 'text_rds': 0.0, 'title_ads': 0.0},\n",
       " {'id': '99', 'text_ads': 0, 'text_rds': 0.0, 'title_ads': 0.0}]"
      ]
     },
     "execution_count": 59,
     "metadata": {},
     "output_type": "execute_result"
    }
   ],
   "source": [
    "ds_reviews"
   ]
  },
  {
   "cell_type": "code",
   "execution_count": null,
   "metadata": {},
   "outputs": [],
   "source": []
  },
  {
   "cell_type": "code",
   "execution_count": null,
   "metadata": {},
   "outputs": [],
   "source": []
  },
  {
   "cell_type": "code",
   "execution_count": null,
   "metadata": {},
   "outputs": [],
   "source": []
  },
  {
   "cell_type": "code",
   "execution_count": null,
   "metadata": {},
   "outputs": [],
   "source": []
  },
  {
   "cell_type": "code",
   "execution_count": null,
   "metadata": {},
   "outputs": [],
   "source": []
  },
  {
   "cell_type": "code",
   "execution_count": null,
   "metadata": {},
   "outputs": [],
   "source": []
  },
  {
   "cell_type": "code",
   "execution_count": null,
   "metadata": {},
   "outputs": [],
   "source": []
  },
  {
   "cell_type": "code",
   "execution_count": null,
   "metadata": {},
   "outputs": [],
   "source": []
  },
  {
   "cell_type": "code",
   "execution_count": null,
   "metadata": {},
   "outputs": [],
   "source": []
  },
  {
   "cell_type": "code",
   "execution_count": null,
   "metadata": {},
   "outputs": [],
   "source": []
  },
  {
   "cell_type": "code",
   "execution_count": null,
   "metadata": {},
   "outputs": [],
   "source": []
  },
  {
   "cell_type": "code",
   "execution_count": null,
   "metadata": {},
   "outputs": [],
   "source": []
  },
  {
   "cell_type": "code",
   "execution_count": null,
   "metadata": {},
   "outputs": [],
   "source": []
  },
  {
   "cell_type": "code",
   "execution_count": null,
   "metadata": {},
   "outputs": [],
   "source": []
  },
  {
   "cell_type": "code",
   "execution_count": null,
   "metadata": {},
   "outputs": [],
   "source": []
  },
  {
   "cell_type": "code",
   "execution_count": null,
   "metadata": {},
   "outputs": [],
   "source": []
  },
  {
   "cell_type": "code",
   "execution_count": null,
   "metadata": {},
   "outputs": [],
   "source": []
  },
  {
   "cell_type": "code",
   "execution_count": null,
   "metadata": {},
   "outputs": [],
   "source": []
  },
  {
   "cell_type": "code",
   "execution_count": null,
   "metadata": {},
   "outputs": [],
   "source": []
  }
 ],
 "metadata": {
  "kernelspec": {
   "display_name": "Python 3",
   "language": "python",
   "name": "python3"
  },
  "language_info": {
   "codemirror_mode": {
    "name": "ipython",
    "version": 3
   },
   "file_extension": ".py",
   "mimetype": "text/x-python",
   "name": "python",
   "nbconvert_exporter": "python",
   "pygments_lexer": "ipython3",
   "version": "3.7.0"
  }
 },
 "nbformat": 4,
 "nbformat_minor": 2
}
